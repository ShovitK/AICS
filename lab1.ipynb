{
  "nbformat": 4,
  "nbformat_minor": 0,
  "metadata": {
    "colab": {
      "provenance": [],
      "authorship_tag": "ABX9TyNBFgXYe7Szvz7hcWqjqTY0",
      "include_colab_link": true
    },
    "kernelspec": {
      "name": "python3",
      "display_name": "Python 3"
    },
    "language_info": {
      "name": "python"
    }
  },
  "cells": [
    {
      "cell_type": "markdown",
      "metadata": {
        "id": "view-in-github",
        "colab_type": "text"
      },
      "source": [
        "<a href=\"https://colab.research.google.com/github/ShovitK/AICS/blob/main/lab1.ipynb\" target=\"_parent\"><img src=\"https://colab.research.google.com/assets/colab-badge.svg\" alt=\"Open In Colab\"/></a>"
      ]
    },
    {
      "cell_type": "code",
      "execution_count": 1,
      "metadata": {
        "colab": {
          "base_uri": "https://localhost:8080/"
        },
        "id": "LfDY6Aw3CBnc",
        "outputId": "0a59bb4e-67bb-48d1-f06f-c6cab0d8c3ba"
      },
      "outputs": [
        {
          "output_type": "stream",
          "name": "stdout",
          "text": [
            "['colab', 34, 65]\n",
            "5\n",
            "{1: 'a', 2: 'b', 3: 'c'}\n"
          ]
        }
      ],
      "source": [
        "d = {1:'a', 2:'b', 3:'c'}\n",
        "l = [\"colab\", 34]\n",
        "t = (1,2,3,4,5)\n",
        "\n",
        "l.append(65)\n",
        "print(l)\n",
        "\n",
        "print(len(t))\n",
        "\n",
        "print(d)"
      ]
    }
  ]
}